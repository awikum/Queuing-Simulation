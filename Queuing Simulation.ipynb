{
 "cells": [
  {
   "cell_type": "markdown",
   "metadata": {},
   "source": [
    "# Simulation Overview"
   ]
  },
  {
   "cell_type": "markdown",
   "metadata": {},
   "source": [
    "### Description"
   ]
  },
  {
   "cell_type": "markdown",
   "metadata": {},
   "source": [
    "Simulation of a M/M/C+M Erlang-A queueing model, which is a Markovian queueing model that allows for customer abandonment. Plots the error-minimizing weights for a convex combination LES and average wait times as well as correlation for future and past information. Run all cells to initialize the simulation, then input data into the user interface."
   ]
  },
  {
   "cell_type": "markdown",
   "metadata": {},
   "source": [
    "### Input "
   ]
  },
  {
   "cell_type": "markdown",
   "metadata": {},
   "source": [
    "_nValues_ := A list of the number of servers in the system. A simulation will be run for each input in the list.\n",
    "\n",
    "_Number of Simulations_ := The number of simulated customers that move through the queuing system.\n",
    "\n",
    "_Abandonment Mean_ := Mean of the random exponential distribution that determines abandonment. A greater mean results in fewer customers that abandon the queue.\n",
    "\n",
    "_Standard Dev_ := Standard deviation from the mean of the exponential distribution used to determine interarrival times between customers.\n",
    "\n",
    "_LESlag_ := The max number of customers to look \"forward\" or \"backward\" when computing LES. Used for future information analysis.\n",
    "\n",
    "_Correlation Plot_ := If checked, plots LES vs wait time correlation for all integer lags in [-LESLag, LESLag].\n",
    "\n",
    "_LES Alpha Plots_ := If checked, plots mean-square error and absolute error as a function of alpha, which is the weight on LES for a convex combination of LES and average weight time."
   ]
  },
  {
   "cell_type": "code",
   "execution_count": null,
   "metadata": {
    "scrolled": true
   },
   "outputs": [],
   "source": [
    "%matplotlib inline\n",
    "import numpy as np  \n",
    "import statistics as S\n",
    "import matplotlib.pyplot as plt\n",
    "import pandas as pd\n",
    "import math\n",
    "import seaborn as sns\n",
    "from sklearn.metrics import mean_squared_error"
   ]
  },
  {
   "cell_type": "code",
   "execution_count": null,
   "metadata": {
    "scrolled": false
   },
   "outputs": [],
   "source": [
    "from IPython.display import display\n",
    "from ipywidgets import HBox, widgets, Layout, Label, interactive\n",
    "from IPython.display import clear_output\n",
    "\n",
    "\n",
    "def sims(n):\n",
    "    return n\n",
    "numSimSlider = interactive(sims, n=widgets.IntSlider(value = 0, min = 0, max = 1000000, step = 5000), \n",
    "                           continuous_update=False)\n",
    "def theta(Θ):\n",
    "    return Θ\n",
    "thetaSlider = interactive(theta, Θ=widgets.FloatSlider(value = 0.5, min = 0.5, max = 2, step = 0.5), \n",
    "                           continuous_update=False)\n",
    "def beta(β):\n",
    "    return β\n",
    "betaSlider = interactive(beta, β=widgets.IntSlider(value = 0, min = -3, max = 3, step = 1), continuous_update=False)\n",
    "\n",
    "def lags(Lag):\n",
    "    return Lag\n",
    "lagSlider = interactive(lags, Lag=widgets.IntSlider(value = 0, min = 0, max = 5, step = 1), continuous_update=False)\n",
    "\n",
    "def nValues(nValues):\n",
    "    return nValues\n",
    "nValueList = interactive(nValues, nValues = widgets.Text(value=\"25, 100, 200\"))\n",
    "display(nValueList)\n",
    "\n",
    "def corr(Correlation_Plot):\n",
    "    return Correlation_Plot\n",
    "corrPlot = interactive(corr, Correlation_Plot = True)\n",
    "def error(LES_Alpha_Plots):\n",
    "    return LES_Alpha_Plots\n",
    "errorPlot = interactive(error, LES_Alpha_Plots = True)\n",
    "\n",
    "display(HBox([corrPlot, errorPlot]))\n",
    "\n",
    "\n",
    "        \n",
    "accordion = widgets.Accordion(children=[numSimSlider, thetaSlider, betaSlider, lagSlider])\n",
    "accordion.set_title(0, 'Number of Simulations')\n",
    "accordion.set_title(1, 'Abandonment Mean')\n",
    "accordion.set_title(2, 'Standard Dev')\n",
    "accordion.set_title(3, 'LES Lag')\n",
    "display(accordion)\n",
    "\n",
    "start = widgets.Button(description=\"Run\")\n",
    "display(start)\n",
    "\n",
    "def on_button_clicked(b):\n",
    "    numSims = numSimSlider.result\n",
    "    thetaValue = thetaSlider.result\n",
    "    betaValue = betaSlider.result\n",
    "    nValues = [int(e) for e in nValueList.result.split(',')]\n",
    "    lags = lagSlider.result\n",
    "    CorrPlot = corrPlot.result\n",
    "    AlphaPlot = errorPlot.result\n",
    "    if (CorrPlot): \n",
    "        correlationPlotter(nValues, betaValue, numSims, thetaValue, lag_int_to_list(lags))\n",
    "    if (AlphaPlot):\n",
    "        for i in nValues:\n",
    "            interArrival = np.random.exponential(1/(i + betaValue*math.sqrt(i)), numSims)\n",
    "            serviceTimes = np.random.exponential(1, numSims)\n",
    "            abandonTimes = np.random.exponential(thetaValue, numSims)\n",
    "            timeTuple = queueSim([0,10000000], interArrival, serviceTimes, abandonTimes, i)\n",
    "            getdata(*timeTuple,i,betaValue,thetaValue,1)\n",
    "\n",
    "    \n",
    "start.on_click(on_button_clicked)"
   ]
  },
  {
   "cell_type": "code",
   "execution_count": null,
   "metadata": {
    "scrolled": true
   },
   "outputs": [],
   "source": [
    "class customer:\n",
    "    def __init__(self, arrival, service, patience, time, adjServ):\n",
    "        self.interArrivalTime = arrival\n",
    "        self.service_time = service\n",
    "        self.patience_threshold = patience\n",
    "        self.absolute_time = time"
   ]
  },
  {
   "cell_type": "code",
   "execution_count": null,
   "metadata": {
    "scrolled": true
   },
   "outputs": [],
   "source": [
    "class serviceStation:\n",
    "    def __init__(self, c , t):\n",
    "        self.customer = c\n",
    "        self.timeRemaining = t"
   ]
  },
  {
   "cell_type": "code",
   "execution_count": null,
   "metadata": {
    "scrolled": true
   },
   "outputs": [],
   "source": [
    "def queueSim (t, ar, s, ab, N):\n",
    "\n",
    "    # Initialize N empty service stations\n",
    "    serviceList = []\n",
    "    for i in range(0,N):\n",
    "        serviceList.append(0)\n",
    "    \n",
    "    # A list (to be filled with customers) that represents the queue\n",
    "    queueList = []\n",
    "    queueList.append(customer(ar[0], s[0], ab[0], ar[0], s[0]))\n",
    "\n",
    "    \n",
    "    # A list of computed wait times for each customer\n",
    "    W = []\n",
    "    \n",
    "    # A list of LES wait times for each customer\n",
    "    LES = []\n",
    "    LES.append(0)\n",
    "\n",
    "    \n",
    "    # A list containing the absolute times at which each customer arrives\n",
    "    N = []\n",
    "    N.append(ar[0])\n",
    "    \n",
    "    LESindices = []\n",
    " \n",
    "    \n",
    "    # Dummy indices\n",
    "    i = 1\n",
    "    LESindex = -1\n",
    "    \n",
    "    # Flag variable for ending the simulation\n",
    "    end = False \n",
    "    \n",
    "    \n",
    "    for z in t:\n",
    "        while (N[i-1] < z):\n",
    "            \n",
    "            # Update service timers\n",
    "            serviceList = [x - ar[i] for x in serviceList]\n",
    "            temp = all(y>0 for y in serviceList)\n",
    "\n",
    "            # Store the absolute arrival time for the entering customer\n",
    "            N.append(ar[i] + N[i-1])\n",
    "            \n",
    "     \n",
    "\n",
    "            # Update the state of the queue\n",
    "            while (temp==False and len(queueList) != 0):\n",
    "                index_min = serviceList.index(min(serviceList))\n",
    "                W.append(abs(round(N[i] - queueList[0].absolute_time + serviceList[index_min], 10)))\n",
    "                serviceList[index_min] = serviceList[index_min] + queueList[0].service_time\n",
    "                LESindex = LESindex + 1\n",
    "                queueList.pop(0)\n",
    "                temp = all(y>0 for y in serviceList)\n",
    "            serviceList = [max(0, y) for y in serviceList] \n",
    "            LESindices.append(LESindex)\n",
    "            \n",
    "            \n",
    "\n",
    "            # Construct the entering customer and place them in the queue\n",
    "            queueList.append(customer(ar[i], s[i], ab[i], N[i], s[i]))\n",
    "         \n",
    "            \n",
    "            # Remove any customers that renege prior to the entering customer's arrival time\n",
    "            for a in queueList:\n",
    "                if N[i] - a.absolute_time >= a.patience_threshold:\n",
    "                    a.service_time = 0\n",
    "\n",
    "                    \n",
    "            \n",
    "            # Incremement the system\n",
    "            i = i + 1\n",
    "            \n",
    "            # Simulation exits if it reaches the end of the input data\n",
    "            if i == len(ar) :\n",
    "                end = True;\n",
    "                break;\n",
    "        if end:\n",
    "            break;\n",
    "    \n",
    "     # Update service timers\n",
    "    serviceList = [x - 10000000 for x in serviceList]\n",
    "    temp = all(y>0 for y in serviceList)\n",
    "            \n",
    "\n",
    "    N.append(10000000 + N[i-1])\n",
    "                   \n",
    "    while (temp==False and len(queueList) != 0):\n",
    "                index_min = serviceList.index(min(serviceList))\n",
    "                W.append(abs(round(N[i] - queueList[0].absolute_time + serviceList[index_min], 10)))\n",
    "                serviceList[index_min] = serviceList[index_min] + queueList[0].service_time\n",
    "                queueList.pop(0)\n",
    "                temp = all(y>0 for y in serviceList)\n",
    "\n",
    "\n",
    "    for i in LESindices:\n",
    "        LES.append(W[i])\n",
    "\n",
    "    return W, LES\n"
   ]
  },
  {
   "cell_type": "code",
   "execution_count": null,
   "metadata": {
    "scrolled": true
   },
   "outputs": [],
   "source": [
    "def lag_int_to_list(lag):\n",
    "    lagList = []\n",
    "    for i in range(-lag,lag+1):\n",
    "        lagList.append(i)\n",
    "\n",
    "    return lagList"
   ]
  },
  {
   "cell_type": "code",
   "execution_count": null,
   "metadata": {
    "scrolled": true
   },
   "outputs": [],
   "source": [
    "def lesShift(Wait, LES, k):\n",
    "    if (k<0):\n",
    "        for i in range(0,-k):\n",
    "            LES.pop(0)\n",
    "            Wait.pop()\n",
    "    else:\n",
    "        for i in range(0,k):\n",
    "            LES.pop()\n",
    "            Wait.pop(0)\n",
    "        \n",
    "\n",
    "    return Wait, LES"
   ]
  },
  {
   "cell_type": "code",
   "execution_count": null,
   "metadata": {
    "scrolled": true
   },
   "outputs": [],
   "source": [
    "def correlation(wTime, lesTime):\n",
    "    return np.corrcoef(wTime, lesTime)[0][1]"
   ]
  },
  {
   "cell_type": "code",
   "execution_count": null,
   "metadata": {
    "scrolled": true
   },
   "outputs": [],
   "source": [
    "def correlationPlotter (nValues, betaValue, numSims, thetaValue, lags):\n",
    "    df = pd.DataFrame(index = nValues, columns = lags)\n",
    "    correlations = []\n",
    "    percFin = 0\n",
    "    for k in lags:\n",
    "        correlations.clear()\n",
    "        for i in nValues:\n",
    "            interArrival = np.random.exponential(1/(i + betaValue*math.sqrt(i)), numSims)\n",
    "            serviceTimes = np.random.exponential(1, numSims)\n",
    "            abandonTimes = np.random.exponential(thetaValue, numSims)\n",
    "            timeTuple = queueSim([0,10000000], interArrival, serviceTimes, abandonTimes, i)\n",
    "            shiftedTimeTuple = lesShift(*timeTuple, k)\n",
    "            correlations.append(correlation(*shiftedTimeTuple))\n",
    "        df[k] = correlations\n",
    "    #colors = ['#00008B','#0000CD','#4169E1','#6495ED','#87CEEB','#000000','#FFC0CB','#FA8072','#FF0000','#CD5C5C','#8B0000']\n",
    "\n",
    "    sns.set(rc={\"lines.linewidth\": 1})\n",
    "\n",
    "    #Plot\n",
    "    ax = sns.lineplot(hue=\"event\", dashes=False, data=df, palette=\"GnBu_r\",marker=\"o\",markersize=5)\n",
    "    ax.set_xlabel(\"n-values\")\n",
    "    ax.set_ylabel(\"Correlation\")\n",
    "    plt.title(\"Wait Time/Lagged LES Correlation\")\n",
    "    plt.legend(title = \"Lags\", ncol=2, loc='lower right');\n",
    "    plt.show()"
   ]
  },
  {
   "cell_type": "code",
   "execution_count": null,
   "metadata": {
    "scrolled": false
   },
   "outputs": [],
   "source": [
    "def getdata (LES, Wait, nV, betaValue, thetaValue, gammaValue):\n",
    "    gamma = gammaValue;\n",
    "    alphalist = np.arange(0,1.01,0.01)\n",
    "    MSE = []\n",
    "    Abs = []\n",
    "    \n",
    "    avg = sum(Wait)/len(Wait)\n",
    "    #median = np.median(Wait)\n",
    "    \n",
    "    for alpha in np.arange (0,1.01,0.01):\n",
    "        i = 0\n",
    "        Ralphas = []\n",
    "        Ralphas.clear()\n",
    "        Rkmse = []\n",
    "        Rkmse.clear()\n",
    "        Rkabs = []\n",
    "        Rkabs.clear()\n",
    "\n",
    "        for x in LES:\n",
    "            Ralpha = (alpha*x + (1-alpha)*avg)\n",
    "            Ralphas.append(Ralpha)\n",
    "            #Ralpha = (alpha*x + (1-alpha)*median)\n",
    "            Rkmse.append( (Ralpha - Wait[i])**2 )\n",
    "            Rkabs.append(max(Ralpha - Wait[i],0) + gamma*max(Wait[i] - Ralpha,0))\n",
    "            i = i+1\n",
    "        MSE.append(sum(Rkmse)/len(Rkmse))\n",
    "        Abs.append(sum(Rkabs)/len(Rkabs))\n",
    "\n",
    "    fig, (ax1, ax2) = plt.subplots(ncols=2)\n",
    "    plt.tight_layout()\n",
    "    ymin1 = min(MSE)\n",
    "    mark1 = alphalist[MSE.index(ymin1)]\n",
    "    ax1.plot(alphalist, MSE)\n",
    "    ax1.plot(mark1, ymin1, color='red', marker='o') \n",
    "    ax1.set_ylabel('MSE')\n",
    "    ax1.set_xlabel('alpha')\n",
    "    ax1.set_title('MSE: n=' + str(nV))\n",
    "\n",
    "    ymin2 = min(Abs)\n",
    "    mark2 = alphalist[Abs.index(ymin2)]\n",
    "    ax2.plot(alphalist, Abs)\n",
    "    ax2.plot(mark2, ymin2, color='red', marker='o')\n",
    "    ax2.set_ylabel('Abs')\n",
    "    ax2.set_xlabel('alpha')\n",
    "    ax2.set_title('ABS, n=' + str(nV))\n",
    "    plt.show()"
   ]
  }
 ],
 "metadata": {
  "kernelspec": {
   "display_name": "Python 3",
   "language": "python",
   "name": "python3"
  },
  "language_info": {
   "codemirror_mode": {
    "name": "ipython",
    "version": 3
   },
   "file_extension": ".py",
   "mimetype": "text/x-python",
   "name": "python",
   "nbconvert_exporter": "python",
   "pygments_lexer": "ipython3",
   "version": "3.7.0"
  }
 },
 "nbformat": 4,
 "nbformat_minor": 2
}
